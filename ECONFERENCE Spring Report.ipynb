{
 "cells": [
  {
   "cell_type": "markdown",
   "metadata": {},
   "source": [
    "# Undergraduate Economic Society: ECONference Report"
   ]
  },
  {
   "cell_type": "markdown",
   "metadata": {},
   "source": [
    "<img src=\"banner.jpg\" style=\"width: 400px;\"/>"
   ]
  },
  {
   "cell_type": "markdown",
   "metadata": {},
   "source": [
    "## Introduction"
   ]
  },
  {
   "cell_type": "markdown",
   "metadata": {},
   "source": [
    "The Undergraduate Economic Society hosted ECONference, a panelist event hosted on April 16th 2019 from 5:30PM - 8:30PM. It was held in the Student Services Center's Multipurpose room. Some distinguished speakers included Guy Berger and Ryan Sullivan, both highly regarded industrymen from LinkedIn and Intensity. ECONference also hosted a guided graduate student panel and an undergraudate panel. Italian catered food was provided for all guests. 116 non-UES members attended ECONference, a mark that beat out previous year's ECONference attendance of 85. The event also featured several other distinguished individuals from Analytic Ventures, Union Bank, NorthWestern Mutual, and other companies for a chance for students to network with during dinnertime. "
   ]
  },
  {
   "cell_type": "markdown",
   "metadata": {},
   "source": [
    "## Objective"
   ]
  },
  {
   "cell_type": "markdown",
   "metadata": {},
   "source": [
    "The first data report from the Undergraduate Economic Society was written in the year of 2016 - 2017. Every following iteration of the report was analyzed using Excel and then compiled using Tableau. Because the Undergraduate Economic Society have members progressing through the new Data Science Major/Minor, we wanted to compile this report using Python and Pandas with help from data visualization libraries like Seaborn and matplotlib.\n",
    "\n",
    "This report is compiled using Jupyter Notebook. The code that generates the analysis and data visualizations is posted below. The code is commented to help readers follow along if desired, although those who do not understand Python can follow along with the analysis that complements the code. We hope that this report can be the start of a more technical, rigorous tradition for data analysis within UES and the Economics community."
   ]
  },
  {
   "cell_type": "code",
   "execution_count": 179,
   "metadata": {},
   "outputs": [],
   "source": [
    "# Import the relevant libraries\n",
    "import pandas as pd\n",
    "import numpy as np\n",
    "import matplotlib.pyplot as plt\n",
    "import seaborn as sns"
   ]
  },
  {
   "cell_type": "code",
   "execution_count": 180,
   "metadata": {},
   "outputs": [],
   "source": [
    "# Import the appropriate CSV files into Pandas from the source folder.\n",
    "econ_one = pd.read_csv('econference.csv')\n",
    "econ_two = pd.read_csv('econference_two.csv')\n",
    "mixer = pd.read_csv('faculty_mixer.csv') # This data is not used in this report\n",
    "talks = pd.read_csv('econ_talks.csv') # This data is not used in this report"
   ]
  },
  {
   "cell_type": "markdown",
   "metadata": {},
   "source": [
    "## General Data Cleaning"
   ]
  },
  {
   "cell_type": "markdown",
   "metadata": {},
   "source": [
    "There were two forms of registration for ECONFerence. One way was through pre-registration on EventBrite, and another was using Walk-in registration. The two registration forms had slightly different questions and data columns, so we eliminated the irrelevant columns while changing the column names to something consistent and readable."
   ]
  },
  {
   "cell_type": "code",
   "execution_count": 181,
   "metadata": {},
   "outputs": [],
   "source": [
    "# Drop the irrelevant columns\n",
    "econ_one.drop(columns = ['Order #', 'Order Date', 'Quantity', 'Ticket Type', 'Order Type', 'Total Paid', 'Eventbrite Fees', 'Eventbrite Payment Processing', 'Attendee Status', 'How did you hear about this event?'], inplace = True)\n",
    "econ_two.drop(columns = ['Timestamp'], inplace = True)\n",
    "\n",
    "# Rename the columns\n",
    "econ_one.columns = ['First Name', 'Last Name', 'Email', 'Major', 'Graduation', 'Advertisement']\n",
    "econ_two.columns = ['First Name', 'Last Name', 'Email', 'Major', 'Graduation', 'Advertisement']\n",
    "\n",
    "# Then combine them together to get the dataframe we want\n",
    "econference = pd.concat([econ_one, econ_two], ignore_index = True)\n",
    "\n",
    "# For this report, we drop the First Name, Last Name, and Email to anonymize the data\n",
    "econference = econference[['Major', 'Graduation', 'Advertisement']]"
   ]
  },
  {
   "cell_type": "markdown",
   "metadata": {},
   "source": [
    "## Field of Study"
   ]
  },
  {
   "cell_type": "markdown",
   "metadata": {},
   "source": [
    "There was a wide variety of majors that attended our events. First, we must clean the data first in order to sift out the exact proportions of majors that attended ECONference."
   ]
  },
  {
   "cell_type": "code",
   "execution_count": 182,
   "metadata": {},
   "outputs": [
    {
     "data": {
      "text/html": [
       "<div>\n",
       "<style scoped>\n",
       "    .dataframe tbody tr th:only-of-type {\n",
       "        vertical-align: middle;\n",
       "    }\n",
       "\n",
       "    .dataframe tbody tr th {\n",
       "        vertical-align: top;\n",
       "    }\n",
       "\n",
       "    .dataframe thead th {\n",
       "        text-align: right;\n",
       "    }\n",
       "</style>\n",
       "<table border=\"1\" class=\"dataframe\">\n",
       "  <thead>\n",
       "    <tr style=\"text-align: right;\">\n",
       "      <th></th>\n",
       "      <th>Major</th>\n",
       "      <th>Graduation</th>\n",
       "      <th>Advertisement</th>\n",
       "    </tr>\n",
       "  </thead>\n",
       "  <tbody>\n",
       "    <tr>\n",
       "      <th>0</th>\n",
       "      <td>math econ</td>\n",
       "      <td>2021</td>\n",
       "      <td>Flyers</td>\n",
       "    </tr>\n",
       "    <tr>\n",
       "      <th>1</th>\n",
       "      <td>engineering</td>\n",
       "      <td>Spring 2021</td>\n",
       "      <td>Facebook</td>\n",
       "    </tr>\n",
       "    <tr>\n",
       "      <th>2</th>\n",
       "      <td>management science</td>\n",
       "      <td>Spring, 2020</td>\n",
       "      <td>Facebook | Flyers | Professor</td>\n",
       "    </tr>\n",
       "    <tr>\n",
       "      <th>3</th>\n",
       "      <td>management science</td>\n",
       "      <td>2019</td>\n",
       "      <td>Email</td>\n",
       "    </tr>\n",
       "    <tr>\n",
       "      <th>4</th>\n",
       "      <td>economics</td>\n",
       "      <td>Spring 2020</td>\n",
       "      <td>Email | Professor</td>\n",
       "    </tr>\n",
       "  </tbody>\n",
       "</table>\n",
       "</div>"
      ],
      "text/plain": [
       "                Major    Graduation                  Advertisement\n",
       "0           math econ          2021                         Flyers\n",
       "1         engineering   Spring 2021                       Facebook\n",
       "2  management science  Spring, 2020  Facebook | Flyers | Professor\n",
       "3  management science          2019                          Email\n",
       "4           economics   Spring 2020              Email | Professor"
      ]
     },
     "execution_count": 182,
     "metadata": {},
     "output_type": "execute_result"
    }
   ],
   "source": [
    "# First, we lowercase everything for consistency\n",
    "econference['Major'] = econference['Major'].apply(lambda x: x.lower())\n",
    "\n",
    "# Then, clean the majors accordingly.\n",
    "def clean_majors(data):\n",
    "    if 'math' in data and 'econ' in data:\n",
    "        return 'math econ'\n",
    "    elif 'man' in data and 'sci' in data or 'ms' in data:\n",
    "        return 'management science'\n",
    "    elif 'econ' in data and 'math' not in data and 'man' not in data and 'international' not in data:\n",
    "        return 'economics'\n",
    "    elif 'business' in data:\n",
    "        return 'business'\n",
    "    elif 'bio' in data or 'chem' in data:\n",
    "        return 'sciences'\n",
    "    elif 'math' in data:\n",
    "        return 'mathematics'\n",
    "    elif 'cs' in data or 'computer' in data or 'engineering' in data or 'data' in data:\n",
    "        return 'engineering'\n",
    "    else:\n",
    "        return 'other'\n",
    "    \n",
    "# Apply this function to clean the data within the dataframe\n",
    "econference['Major'] = econference['Major'].apply(clean_majors)\n",
    "\n",
    "# Get a preview of what the dataframe looks like\n",
    "econference.head()"
   ]
  },
  {
   "cell_type": "markdown",
   "metadata": {},
   "source": [
    "This is a humble lesson in how important good survey design is. Because we did not place any explicit direction on how they should answer their Major, students often answered with many arbitrary fields of study, and we must make difficult decisions to categorize those majors. This also requires more time to clean the data. In the future, improved surveys can make data cleaning much easier."
   ]
  },
  {
   "cell_type": "code",
   "execution_count": 183,
   "metadata": {
    "scrolled": false
   },
   "outputs": [
    {
     "data": {
      "text/plain": [
       "[Text(0, 0.5, 'Frequency'), Text(0.5, 0, 'Major')]"
      ]
     },
     "execution_count": 183,
     "metadata": {},
     "output_type": "execute_result"
    },
    {
     "data": {
      "image/png": "[encoded data removed]",
      "text/plain": [
       "<Figure size 1080x504 with 1 Axes>"
      ]
     },
     "metadata": {},
     "output_type": "display_data"
    }
   ],
   "source": [
    "# Data we are using\n",
    "majors = pd.DataFrame(econference['Major'].value_counts())\n",
    "\n",
    "# Sets the graphic style of the seaborn plot\n",
    "sns.set(style=\"whitegrid\")\n",
    "\n",
    "# Sets the size of the seaborn plot\n",
    "f, ax = plt.subplots(figsize=(15, 7))\n",
    "\n",
    "# Creates the plot\n",
    "major = sns.barplot(y = majors['Major'], x = list(majors.index))\n",
    "\n",
    "# Adds the axis names\n",
    "major.set(xlabel = 'Major', ylabel = 'Frequency')"
   ]
  },
  {
   "cell_type": "markdown",
   "metadata": {},
   "source": [
    "As we can see from the visualization above, the most popular major that attended our event was Economics. The top 3 majors that attended were majors from the Economics Department: Economics, Math-Economics Joint Major, and Management Science. All other majors outside of the Economics Department were separated into categories, not individual majors. There, we can easily see that there are a handful of other related majors who attended our event, from Engineering, Mathematics, and Business. "
   ]
  },
  {
   "cell_type": "code",
   "execution_count": 184,
   "metadata": {},
   "outputs": [
    {
     "data": {
      "text/plain": [
       "0.8275862068965517"
      ]
     },
     "execution_count": 184,
     "metadata": {},
     "output_type": "execute_result"
    }
   ],
   "source": [
    "majors.reset_index().iloc[:3].sum()['Major'] / majors['Major'].sum()"
   ]
  },
  {
   "cell_type": "markdown",
   "metadata": {},
   "source": [
    "Here, we can see that the exact proportion of individuals who were from the Economics Department was approximately 83%, an incredible proportion. While the event is certainly catered to students within the Economics Department, we suspect that a significant amount of advertising (Email, Professors) were targeted towards students within the Economics Department. We will see if this is true later when we conduct some A/B testing."
   ]
  },
  {
   "cell_type": "markdown",
   "metadata": {},
   "source": [
    "## Year of Graduation"
   ]
  },
  {
   "cell_type": "markdown",
   "metadata": {},
   "source": [
    "We would like to see the age of students that attended ECONference. Historically, Freshman and Juniors attend our events most likely because they are the demographic most interested in exploring different events. Freshmen are often unsure of their field of study, and some Juniors are transfer students. We will see if this trend continues into ECONference this year."
   ]
  },
  {
   "cell_type": "code",
   "execution_count": 185,
   "metadata": {},
   "outputs": [],
   "source": [
    "def clean_graduation(data):\n",
    "    if '2020' in data or 'SP20' in data:\n",
    "        return '2020'\n",
    "    elif '21' in data:\n",
    "        return '2021'\n",
    "    elif '22' in data:\n",
    "        return '2022'\n",
    "    elif '23' in data:\n",
    "        return '2023'\n",
    "    elif '19' in data:\n",
    "        return '2019'\n",
    "    else:\n",
    "        return 'np.NaN'\n",
    "econference['Graduation'] = econference['Graduation'].apply(clean_graduation)"
   ]
  },
  {
   "cell_type": "code",
   "execution_count": 186,
   "metadata": {
    "scrolled": false
   },
   "outputs": [
    {
     "data": {
      "text/plain": [
       "[Text(0, 0.5, 'Frequency'), Text(0.5, 0, 'Year of Graduation')]"
      ]
     },
     "execution_count": 186,
     "metadata": {},
     "output_type": "execute_result"
    },
    {
     "data": {
      "image/png": "[encoded data removed]",
      "text/plain": [
       "<Figure size 1008x504 with 1 Axes>"
      ]
     },
     "metadata": {},
     "output_type": "display_data"
    }
   ],
   "source": [
    "# Sets the size of the Seaborn plot\n",
    "f, ax = plt.subplots(figsize=(14, 7))\n",
    "\n",
    "# Data we are using\n",
    "years = pd.DataFrame(econference['Graduation'].value_counts())\n",
    "years = years.sort_index(ascending = False)\n",
    "\n",
    "# Creates the plot\n",
    "year_plot = sns.barplot(y = years['Graduation'], x = list(years.index))\n",
    "year_plot.set(xlabel = 'Year of Graduation', ylabel = 'Frequency')"
   ]
  },
  {
   "cell_type": "markdown",
   "metadata": {},
   "source": [
    "Interestingly enough, the most common major was the class of 2020, or the Junior class. The least most common major was the class of 2022, or the Freshman class. We can see the exact proportion of the distribution with the code below:"
   ]
  },
  {
   "cell_type": "code",
   "execution_count": 187,
   "metadata": {},
   "outputs": [
    {
     "data": {
      "text/plain": [
       "2020      0.413793\n",
       "2021      0.267241\n",
       "2019      0.206897\n",
       "2022      0.086207\n",
       "np.NaN    0.025862\n",
       "Name: Graduation, dtype: float64"
      ]
     },
     "execution_count": 187,
     "metadata": {},
     "output_type": "execute_result"
    }
   ],
   "source": [
    "econference['Graduation'].value_counts()/econference['Graduation'].value_counts().sum()"
   ]
  },
  {
   "cell_type": "markdown",
   "metadata": {},
   "source": [
    "As seen from the table above, we can easily see that most students who attended were Juniors and Sophomores, consisting of a combined 68% of total attendees. Traditionally, we would conclude that perhaps Juniors and Sophomores are more interested in coming out to these events as they begin searching for internships--something we had concluded in a previous iteration of the ECONference report. However, what if the students coming out to our event is mostly influenced by the way we marketed ECONference? In other words, students come to ECONference not because their demographic is more interested in ECONference. Rather, students come to ECONference because our marketing methods target them the most.\n",
    "\n",
    "We can test this with an A/B test below."
   ]
  },
  {
   "cell_type": "markdown",
   "metadata": {},
   "source": [
    "## Marketing Methods"
   ]
  },
  {
   "cell_type": "markdown",
   "metadata": {},
   "source": [
    "Aside from the demographics, now we want to look at which marketing methods were most useful! We will now try to create some visualizations that help us answer that question. But first, there's a lot of data we have to clean."
   ]
  },
  {
   "cell_type": "code",
   "execution_count": 188,
   "metadata": {
    "scrolled": true
   },
   "outputs": [],
   "source": [
    "def marketing_dictionary(data):\n",
    "    data_dict = {}\n",
    "    # This allows us to split the data accordingly!\n",
    "    data = data.split(' | ')\n",
    "    # This will split up the weights accordingly.\n",
    "    for i in data:\n",
    "        data_dict[i] = 1/len(data)\n",
    "    return data_dict\n",
    "ad_weight = econference['Advertisement'].apply(marketing_dictionary)"
   ]
  },
  {
   "cell_type": "markdown",
   "metadata": {},
   "source": [
    "Now that we've cleaned the data, we want to see which marketing method is most effective. Attendees were allowed to choose several marketing methods they saw. Because we only want each person to count for one frequency, **each of their votes were weighed**. Meaning that if the attendee voted for Facebook and Professor for their marketing method, we tally 0.5 for each Facebook and Professor. The code below will tally everything for us!"
   ]
  },
  {
   "cell_type": "code",
   "execution_count": 189,
   "metadata": {},
   "outputs": [],
   "source": [
    "# We will record the frequency each marketing method shows up in the dataframe using this disctionary\n",
    "marketing_total = {'Flyers': 0, 'Facebook': 0, 'Professor': 0, 'Email': 0, 'Word of Mouth': 0, 'Other': 0}\n",
    "\n",
    "# This method goes into each dictionary and sums up the corresponding marketing method into marketing_total\n",
    "def aggregate_data(data):\n",
    "    xd = 0\n",
    "    for key in marketing_total:\n",
    "        if key in data:\n",
    "            marketing_total[key] += data[key]\n",
    "    return data\n",
    "ad_weight.apply(aggregate_data)\n",
    "\n",
    "# Now we convert the dictionary into a dataframe, and sort the values.\n",
    "marketing_df = pd.DataFrame.from_dict(data = marketing_total, orient = 'index')\n",
    "\n",
    "# Save this into the dataframe\n",
    "marketing_df['Frequency'] = marketing_df[0]\n",
    "\n",
    "# Sort it into descending order\n",
    "marketing_df = marketing_df[['Frequency']].sort_values('Frequency', ascending = False)"
   ]
  },
  {
   "cell_type": "code",
   "execution_count": 190,
   "metadata": {
    "scrolled": false
   },
   "outputs": [
    {
     "data": {
      "text/plain": [
       "[Text(0, 0.5, 'Frequency'), Text(0.5, 0, 'Marketing Method')]"
      ]
     },
     "execution_count": 190,
     "metadata": {},
     "output_type": "execute_result"
    },
    {
     "data": {
      "image/png": "[encoded data removed]",
      "text/plain": [
       "<Figure size 1080x504 with 1 Axes>"
      ]
     },
     "metadata": {},
     "output_type": "display_data"
    }
   ],
   "source": [
    "# And we create the visualization!\n",
    "f, ax = plt.subplots(figsize=(15, 7))\n",
    "\n",
    "# Creates the plot\n",
    "market = sns.barplot(y = marketing_df['Frequency'], x = list(marketing_df.index))\n",
    "\n",
    "market.set(xlabel = 'Marketing Method', ylabel = 'Frequency')"
   ]
  },
  {
   "cell_type": "markdown",
   "metadata": {},
   "source": [
    "This shows us that Email was the most effective form of marketing, whereas Flyers were the least effective. This is concerning, because Flyering is one of the most pricey forms of marketing UES has. Something UES has been doing this year is to maintain a mailing list for all our events using MailChimp, and it seems like it has been paying off! Another form of email advertisement that happens is when Dr. Famulari sends out emails advertising ECONference which is sent out to all her students."
   ]
  },
  {
   "cell_type": "code",
   "execution_count": 191,
   "metadata": {},
   "outputs": [
    {
     "data": {
      "text/html": [
       "<div>\n",
       "<style scoped>\n",
       "    .dataframe tbody tr th:only-of-type {\n",
       "        vertical-align: middle;\n",
       "    }\n",
       "\n",
       "    .dataframe tbody tr th {\n",
       "        vertical-align: top;\n",
       "    }\n",
       "\n",
       "    .dataframe thead th {\n",
       "        text-align: right;\n",
       "    }\n",
       "</style>\n",
       "<table border=\"1\" class=\"dataframe\">\n",
       "  <thead>\n",
       "    <tr style=\"text-align: right;\">\n",
       "      <th></th>\n",
       "      <th>Frequency</th>\n",
       "    </tr>\n",
       "  </thead>\n",
       "  <tbody>\n",
       "    <tr>\n",
       "      <th>Email</th>\n",
       "      <td>53.666667</td>\n",
       "    </tr>\n",
       "    <tr>\n",
       "      <th>Facebook</th>\n",
       "      <td>27.833333</td>\n",
       "    </tr>\n",
       "    <tr>\n",
       "      <th>Professor</th>\n",
       "      <td>18.500000</td>\n",
       "    </tr>\n",
       "    <tr>\n",
       "      <th>Word of Mouth</th>\n",
       "      <td>9.333333</td>\n",
       "    </tr>\n",
       "    <tr>\n",
       "      <th>Flyers</th>\n",
       "      <td>4.166667</td>\n",
       "    </tr>\n",
       "    <tr>\n",
       "      <th>Other</th>\n",
       "      <td>1.500000</td>\n",
       "    </tr>\n",
       "  </tbody>\n",
       "</table>\n",
       "</div>"
      ],
      "text/plain": [
       "               Frequency\n",
       "Email          53.666667\n",
       "Facebook       27.833333\n",
       "Professor      18.500000\n",
       "Word of Mouth   9.333333\n",
       "Flyers          4.166667\n",
       "Other           1.500000"
      ]
     },
     "execution_count": 191,
     "metadata": {},
     "output_type": "execute_result"
    }
   ],
   "source": [
    "marketing_df"
   ]
  },
  {
   "cell_type": "markdown",
   "metadata": {},
   "source": [
    "## A/B Testing"
   ]
  },
  {
   "cell_type": "markdown",
   "metadata": {},
   "source": [
    "As mentioned earlier, we hypothesized that students attend ECONference not because of their field of study or because of their graduation year, but because the marketing method targets them the most. Indeed, the emails advertising ECONference come from Dr. Famulari on a mailing list of all students in the Economics Department. This implies that the students in the Economics Department come **because they received the email from Dr. Famulari, or other advertisement method that only students from the Economics know of**. The only forms of advertisement that students from the Economics Department may know about are from Dr. Famulari's Emails, UES's Emails, or if a professor advertised ECONference in class. \n",
    "\n",
    "How can we test if this is the case though? This is where A/B, or [Permutation Testing](http://faculty.washington.edu/kenrice/sisg/SISG-08-06.pdf) is useful. We will not discuss the logistics of permutation testing in this report, but it allows us to see if two different distributions are similar or not. In this case, we compare if the distribution of marketing methods for Economics Department students are different from all other students who attended ECONference."
   ]
  },
  {
   "cell_type": "markdown",
   "metadata": {},
   "source": [
    "### Experimental Design\n",
    "\n",
    "**Null Hypothesis**: There is no difference in distribution of students who came to ECONference from the Economics Department and not from the Economics Department because of the specified marketing method. (Email/Facebook/Professor/Word of Mouth/Flyers/Other).\n",
    "\n",
    "**Alternative Hypothesis**: There is a difference in distribution of students who came to ECONference from the Economics Department and not from the Economics Department because of the specified marketing method. (Email/Facebook/Professor/Word of Mouth/Flyers/Other).\n",
    "\n",
    "**Significance Level**: 0.05\n",
    "\n",
    "**Test Statistic**: Proportion of students from Economics Department who came because of that marketing method* - Proportion of students not from Economics Department who came because of that marketing method.\n",
    "\n",
    "We are going to do one permutation test per marketing method. There are six different marketing methods, so we will receive six different p-values."
   ]
  },
  {
   "cell_type": "code",
   "execution_count": 200,
   "metadata": {},
   "outputs": [
    {
     "data": {
      "text/html": [
       "<div>\n",
       "<style scoped>\n",
       "    .dataframe tbody tr th:only-of-type {\n",
       "        vertical-align: middle;\n",
       "    }\n",
       "\n",
       "    .dataframe tbody tr th {\n",
       "        vertical-align: top;\n",
       "    }\n",
       "\n",
       "    .dataframe thead th {\n",
       "        text-align: right;\n",
       "    }\n",
       "</style>\n",
       "<table border=\"1\" class=\"dataframe\">\n",
       "  <thead>\n",
       "    <tr style=\"text-align: right;\">\n",
       "      <th></th>\n",
       "      <th>Major</th>\n",
       "      <th>Graduation</th>\n",
       "      <th>Advertisement</th>\n",
       "      <th>Email</th>\n",
       "      <th>Facebook</th>\n",
       "      <th>Professor</th>\n",
       "      <th>Word of Mouth</th>\n",
       "      <th>Flyers</th>\n",
       "      <th>Other</th>\n",
       "    </tr>\n",
       "  </thead>\n",
       "  <tbody>\n",
       "    <tr>\n",
       "      <th>0</th>\n",
       "      <td>math econ</td>\n",
       "      <td>2021</td>\n",
       "      <td>{'Flyers': 1.0}</td>\n",
       "      <td>0</td>\n",
       "      <td>0</td>\n",
       "      <td>0</td>\n",
       "      <td>0</td>\n",
       "      <td>1</td>\n",
       "      <td>0</td>\n",
       "    </tr>\n",
       "    <tr>\n",
       "      <th>1</th>\n",
       "      <td>engineering</td>\n",
       "      <td>2021</td>\n",
       "      <td>{'Facebook': 1.0}</td>\n",
       "      <td>0</td>\n",
       "      <td>1</td>\n",
       "      <td>0</td>\n",
       "      <td>0</td>\n",
       "      <td>0</td>\n",
       "      <td>0</td>\n",
       "    </tr>\n",
       "    <tr>\n",
       "      <th>2</th>\n",
       "      <td>management science</td>\n",
       "      <td>2020</td>\n",
       "      <td>{'Facebook': 0.3333333333333333, 'Flyers': 0.3...</td>\n",
       "      <td>0</td>\n",
       "      <td>1</td>\n",
       "      <td>1</td>\n",
       "      <td>0</td>\n",
       "      <td>1</td>\n",
       "      <td>0</td>\n",
       "    </tr>\n",
       "    <tr>\n",
       "      <th>3</th>\n",
       "      <td>management science</td>\n",
       "      <td>2019</td>\n",
       "      <td>{'Email': 1.0}</td>\n",
       "      <td>1</td>\n",
       "      <td>0</td>\n",
       "      <td>0</td>\n",
       "      <td>0</td>\n",
       "      <td>0</td>\n",
       "      <td>0</td>\n",
       "    </tr>\n",
       "    <tr>\n",
       "      <th>4</th>\n",
       "      <td>economics</td>\n",
       "      <td>2020</td>\n",
       "      <td>{'Email': 0.5, 'Professor': 0.5}</td>\n",
       "      <td>1</td>\n",
       "      <td>0</td>\n",
       "      <td>1</td>\n",
       "      <td>0</td>\n",
       "      <td>0</td>\n",
       "      <td>0</td>\n",
       "    </tr>\n",
       "  </tbody>\n",
       "</table>\n",
       "</div>"
      ],
      "text/plain": [
       "                Major Graduation  \\\n",
       "0           math econ       2021   \n",
       "1         engineering       2021   \n",
       "2  management science       2020   \n",
       "3  management science       2019   \n",
       "4           economics       2020   \n",
       "\n",
       "                                       Advertisement  Email  Facebook  \\\n",
       "0                                    {'Flyers': 1.0}      0         0   \n",
       "1                                  {'Facebook': 1.0}      0         1   \n",
       "2  {'Facebook': 0.3333333333333333, 'Flyers': 0.3...      0         1   \n",
       "3                                     {'Email': 1.0}      1         0   \n",
       "4                   {'Email': 0.5, 'Professor': 0.5}      1         0   \n",
       "\n",
       "   Professor  Word of Mouth  Flyers  Other  \n",
       "0          0              0       1      0  \n",
       "1          0              0       0      0  \n",
       "2          1              0       1      0  \n",
       "3          0              0       0      0  \n",
       "4          1              0       0      0  "
      ]
     },
     "execution_count": 200,
     "metadata": {},
     "output_type": "execute_result"
    }
   ],
   "source": [
    "# Change 'Advertisement' to a dictionary so it's easier to work with\n",
    "econference['Advertisement'] = ad_weight.to_frame()\n",
    "\n",
    "# Convert the dictionary into columns of the dictionary, similar to OneHotEncoder but WITHOUT WEIGHTS like in the dictionary\n",
    "for i in ['Email', 'Facebook', 'Professor', 'Word of Mouth', 'Flyers', 'Other']:\n",
    "    econference[i] = econference['Advertisement'].apply(lambda x: 1 if i in x else 0)\n",
    "econference.head()"
   ]
  },
  {
   "cell_type": "markdown",
   "metadata": {},
   "source": [
    "For each A/B test, I will shuffle the Email, Facebook, Professor, Word of Mouth, Flyers, and Other column. The dataframe is visualized above for easy reference."
   ]
  },
  {
   "cell_type": "code",
   "execution_count": 193,
   "metadata": {},
   "outputs": [],
   "source": [
    "# Conduct an A/B test on Major onto every single advertising method\n",
    "major_permutation = econference[['Major', 'Email']]\n",
    "obs = econference.groupby('Major')['Email'].mean()[['economics', 'math econ', 'management science']].sum()\n",
    "\n",
    "# Creates one test statistic for the respective column\n",
    "def simulate_null(column):\n",
    "    shuffle = econference[column].sample(replace = False, frac = 1).reset_index(drop = True)\n",
    "    shuffled_original = (econference.assign(**{'Shuffled Default':shuffle}))\n",
    "    return shuffled_original.groupby('Major')['Shuffled Default'].mean()[['economics', 'math econ', 'management science']].sum()"
   ]
  },
  {
   "cell_type": "code",
   "execution_count": 194,
   "metadata": {},
   "outputs": [
    {
     "data": {
      "text/plain": [
       "{'Email': 1.7974818959842,\n",
       " 'Facebook': 0.7207044107965767,\n",
       " 'Professor': 0.7010368663594471,\n",
       " 'Word of Mouth': 0.19679888084265965,\n",
       " 'Flyers': 0.26131500987491774,\n",
       " 'Other': 0.03225806451612903}"
      ]
     },
     "execution_count": 194,
     "metadata": {},
     "output_type": "execute_result"
    }
   ],
   "source": [
    "# Find all the observed values\n",
    "marketing_methods = ['Email', 'Facebook', 'Professor', 'Word of Mouth', 'Flyers', 'Other']\n",
    "obs_dict = {}\n",
    "for i in marketing_methods:\n",
    "    obs_dict[i] = econference.groupby('Major')[i].mean()[['economics', 'math econ', 'management science']].sum()\n",
    "    \n",
    "# Output the observed values\n",
    "obs_dict"
   ]
  },
  {
   "cell_type": "code",
   "execution_count": 195,
   "metadata": {},
   "outputs": [],
   "source": [
    "# Now we will find the p-values for each of the respective marketing methods.\n",
    "p_value_dict = {}\n",
    "n = 3000\n",
    "for i in marketing_methods:\n",
    "    simulation_list = []\n",
    "    for j in range(n):\n",
    "        simulation_list.append(simulate_null(i))\n",
    "    p_value_dict[i] = np.count_nonzero(simulation_list > obs_dict[i])/n"
   ]
  },
  {
   "cell_type": "code",
   "execution_count": 196,
   "metadata": {},
   "outputs": [
    {
     "data": {
      "text/plain": [
       "{'Email': 0.025333333333333333,\n",
       " 'Facebook': 0.9433333333333334,\n",
       " 'Professor': 0.25066666666666665,\n",
       " 'Word of Mouth': 0.978,\n",
       " 'Flyers': 0.2826666666666667,\n",
       " 'Other': 0.7333333333333333}"
      ]
     },
     "execution_count": 196,
     "metadata": {},
     "output_type": "execute_result"
    }
   ],
   "source": [
    "# These are the p-values!\n",
    "p_value_dict"
   ]
  },
  {
   "cell_type": "markdown",
   "metadata": {},
   "source": [
    "### Conclusions\n",
    "\n",
    "We fail to reject the null hypothesis for Facebook, Professor, Word of Mouth, Flyers, and Other because the p-value is greater than 0.05. However, We **reject the null hypothesis for Email**. We can conclude that the distribution of students between Economics Department students and Non-Economics Department students is different among students who came because of the email. We cannot conclude the reason for why the distributions are different, but the very notion that the students that came out through email marketing methods were different is telling."
   ]
  },
  {
   "cell_type": "code",
   "execution_count": 197,
   "metadata": {},
   "outputs": [],
   "source": [
    "# Just to visualize the plot\n",
    "n = 3000\n",
    "email_list = []\n",
    "for j in range(n):\n",
    "    email_list.append(simulate_null('Email'))"
   ]
  },
  {
   "cell_type": "code",
   "execution_count": 198,
   "metadata": {
    "scrolled": true
   },
   "outputs": [
    {
     "data": {
      "text/plain": [
       "<matplotlib.lines.Line2D at 0x18f1c14dc50>"
      ]
     },
     "execution_count": 198,
     "metadata": {},
     "output_type": "execute_result"
    },
    {
     "data": {
      "image/png": "[encoded data removed]",
      "text/plain": [
       "<Figure size 792x432 with 1 Axes>"
      ]
     },
     "metadata": {},
     "output_type": "display_data"
    }
   ],
   "source": [
    "fig, ax = plt.subplots(figsize= (11, 6))\n",
    "sns.distplot(email_list, hist = True)\n",
    "plt.axvline(1.7974818959842, 0, 2, color = 'red')\n"
   ]
  },
  {
   "cell_type": "markdown",
   "metadata": {},
   "source": [
    "Here, we can see that the above distribution is approximately normal (a property of the permutation test) and that the area to the right of the observed value (red line) is very small."
   ]
  },
  {
   "cell_type": "markdown",
   "metadata": {},
   "source": [
    "## Thank you for reading!"
   ]
  },
  {
   "cell_type": "markdown",
   "metadata": {},
   "source": [
    "The material was freshly learned in DSC 80, so there may be errors. Please contact me at cpctc219@gmail.com if you think ths is the case!\n",
    "\n",
    "Created by Joshua Chan"
   ]
  }
 ],
 "metadata": {
  "kernelspec": {
   "display_name": "Python 3",
   "language": "python",
   "name": "python3"
  },
  "language_info": {
   "codemirror_mode": {
    "name": "ipython",
    "version": 3
   },
   "file_extension": ".py",
   "mimetype": "text/x-python",
   "name": "python",
   "nbconvert_exporter": "python",
   "pygments_lexer": "ipython3",
   "version": "3.6.2"
  }
 },
 "nbformat": 4,
 "nbformat_minor": 2
}
